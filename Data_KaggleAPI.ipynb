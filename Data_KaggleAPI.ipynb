{
 "cells": [
  {
   "cell_type": "markdown",
   "id": "2e44c0a9-8e01-414d-9bbe-cb7da3f02ef1",
   "metadata": {},
   "source": [
    "## Use Kaggle API to Download Yelp-dataset to GCP "
   ]
  },
  {
   "cell_type": "code",
   "execution_count": 1,
   "id": "2c8c9a85-ceb0-47ce-9f16-bc5b664c2440",
   "metadata": {},
   "outputs": [],
   "source": [
    "mkdir ~/.kaggle"
   ]
  },
  {
   "cell_type": "code",
   "execution_count": 2,
   "id": "88f447dc-4292-46a4-8a8d-57c89f0160f3",
   "metadata": {},
   "outputs": [],
   "source": [
    "mv ~/kaggle.json ~/.kaggle/kaggle.json"
   ]
  },
  {
   "cell_type": "code",
   "execution_count": 14,
   "id": "834c7b81-7ea9-487c-837c-bd5bdad9a742",
   "metadata": {},
   "outputs": [
    {
     "name": "stdout",
     "output_type": "stream",
     "text": [
      "Warning: Your Kaggle API key is readable by other users on this system! To fix this, you can run 'chmod 600 /root/.kaggle/kaggle.json'\n",
      "Downloading yelp-dataset.zip to /\n",
      "100%|██████████████████████████████████████▉| 4.07G/4.07G [00:39<00:00, 152MB/s]\n",
      "100%|███████████████████████████████████████| 4.07G/4.07G [00:39<00:00, 112MB/s]\n"
     ]
    }
   ],
   "source": [
    "!kaggle datasets download -d yelp-dataset/yelp-dataset"
   ]
  },
  {
   "cell_type": "code",
   "execution_count": 15,
   "id": "6352d498-b544-4c0e-84de-750c51884e1f",
   "metadata": {},
   "outputs": [
    {
     "name": "stdout",
     "output_type": "stream",
     "text": [
      "Copying file:///yelp-dataset.zip [Content-Type=application/zip]...\n",
      "==> NOTE: You are uploading one or more large file(s), which would run          \n",
      "significantly faster if you enable parallel composite uploads. This\n",
      "feature can be enabled by editing the\n",
      "\"parallel_composite_upload_threshold\" value in your .boto\n",
      "configuration file. However, note that if you do this large files will\n",
      "be uploaded as `composite objects\n",
      "<https://cloud.google.com/storage/docs/composite-objects>`_,which\n",
      "means that any user who downloads such objects will need to have a\n",
      "compiled crcmod installed (see \"gsutil help crcmod\"). This is because\n",
      "without a compiled crcmod, computing checksums on composite objects is\n",
      "so slow that gsutil disables downloads of composite objects.\n",
      "\n",
      "/ [1/1 files][  4.1 GiB/  4.1 GiB] 100% Done 123.0 MiB/s ETA 00:00:00           \n",
      "Operation completed over 1 objects/4.1 GiB.                                      \n"
     ]
    }
   ],
   "source": [
    "!gsutil -m cp /yelp-dataset.zip gs://msca-bdp-student-gcs/group2"
   ]
  },
  {
   "cell_type": "code",
   "execution_count": 17,
   "id": "a5216fc0-940a-4d56-a476-f36a60c98885",
   "metadata": {},
   "outputs": [
    {
     "name": "stdout",
     "output_type": "stream",
     "text": [
      "Archive:  /yelp-dataset.zip\n",
      "replace Dataset_User_Agreement.pdf? [y]es, [n]o, [A]ll, [N]one, [r]ename: ^C\n"
     ]
    }
   ],
   "source": [
    "# Run this command in terminal\n",
    "!unzip /yelp-dataset.zip "
   ]
  },
  {
   "cell_type": "code",
   "execution_count": 18,
   "id": "9d4feae2-0cd5-47f1-a4f9-f0437d9d39bf",
   "metadata": {
    "tags": []
   },
   "outputs": [
    {
     "name": "stdout",
     "output_type": "stream",
     "text": [
      "Copying file:///Dataset_User_Agreement.pdf [Content-Type=application/pdf]...\n",
      "/ [1/1 files][ 78.5 KiB/ 78.5 KiB] 100% Done                                    \n",
      "Operation completed over 1 objects/78.5 KiB.                                     \n",
      "Copying file:///yelp_academic_dataset_business.json [Content-Type=application/json]...\n",
      "\\ [1/1 files][113.4 MiB/113.4 MiB] 100% Done                                    \n",
      "Operation completed over 1 objects/113.4 MiB.                                    \n",
      "Copying file:///yelp_academic_dataset_checkin.json [Content-Type=application/json]...\n",
      "==> NOTE: You are uploading one or more large file(s), which would run          \n",
      "significantly faster if you enable parallel composite uploads. This\n",
      "feature can be enabled by editing the\n",
      "\"parallel_composite_upload_threshold\" value in your .boto\n",
      "configuration file. However, note that if you do this large files will\n",
      "be uploaded as `composite objects\n",
      "<https://cloud.google.com/storage/docs/composite-objects>`_,which\n",
      "means that any user who downloads such objects will need to have a\n",
      "compiled crcmod installed (see \"gsutil help crcmod\"). This is because\n",
      "without a compiled crcmod, computing checksums on composite objects is\n",
      "so slow that gsutil disables downloads of composite objects.\n",
      "\n",
      "- [1/1 files][273.7 MiB/273.7 MiB] 100% Done                                    \n",
      "Operation completed over 1 objects/273.7 MiB.                                    \n",
      "Copying file:///yelp_academic_dataset_review.json [Content-Type=application/json]...\n",
      "==> NOTE: You are uploading one or more large file(s), which would run          \n",
      "significantly faster if you enable parallel composite uploads. This\n",
      "feature can be enabled by editing the\n",
      "\"parallel_composite_upload_threshold\" value in your .boto\n",
      "configuration file. However, note that if you do this large files will\n",
      "be uploaded as `composite objects\n",
      "<https://cloud.google.com/storage/docs/composite-objects>`_,which\n",
      "means that any user who downloads such objects will need to have a\n",
      "compiled crcmod installed (see \"gsutil help crcmod\"). This is because\n",
      "without a compiled crcmod, computing checksums on composite objects is\n",
      "so slow that gsutil disables downloads of composite objects.\n",
      "\n",
      "/ [1/1 files][  5.0 GiB/  5.0 GiB] 100% Done  85.8 MiB/s ETA 00:00:00           \n",
      "Operation completed over 1 objects/5.0 GiB.                                      \n",
      "Copying file:///yelp_academic_dataset_tip.json [Content-Type=application/json]...\n",
      "==> NOTE: You are uploading one or more large file(s), which would run          \n",
      "significantly faster if you enable parallel composite uploads. This\n",
      "feature can be enabled by editing the\n",
      "\"parallel_composite_upload_threshold\" value in your .boto\n",
      "configuration file. However, note that if you do this large files will\n",
      "be uploaded as `composite objects\n",
      "<https://cloud.google.com/storage/docs/composite-objects>`_,which\n",
      "means that any user who downloads such objects will need to have a\n",
      "compiled crcmod installed (see \"gsutil help crcmod\"). This is because\n",
      "without a compiled crcmod, computing checksums on composite objects is\n",
      "so slow that gsutil disables downloads of composite objects.\n",
      "\n",
      "| [1/1 files][172.2 MiB/172.2 MiB] 100% Done                                    \n",
      "Operation completed over 1 objects/172.2 MiB.                                    \n",
      "Copying file:///yelp_academic_dataset_user.json [Content-Type=application/json]...\n",
      "==> NOTE: You are uploading one or more large file(s), which would run          \n",
      "significantly faster if you enable parallel composite uploads. This\n",
      "feature can be enabled by editing the\n",
      "\"parallel_composite_upload_threshold\" value in your .boto\n",
      "configuration file. However, note that if you do this large files will\n",
      "be uploaded as `composite objects\n",
      "<https://cloud.google.com/storage/docs/composite-objects>`_,which\n",
      "means that any user who downloads such objects will need to have a\n",
      "compiled crcmod installed (see \"gsutil help crcmod\"). This is because\n",
      "without a compiled crcmod, computing checksums on composite objects is\n",
      "so slow that gsutil disables downloads of composite objects.\n",
      "\n",
      "\\ [1/1 files][  3.1 GiB/  3.1 GiB] 100% Done 108.0 MiB/s ETA 00:00:00           \n",
      "Operation completed over 1 objects/3.1 GiB.                                      \n"
     ]
    }
   ],
   "source": [
    "!gsutil -m cp /Dataset_User_Agreement.pdf gs://msca-bdp-student-gcs/group2/yelp-kaggleAPI\n",
    "!gsutil -m cp /yelp_academic_dataset_business.json gs://msca-bdp-student-gcs/group2/yelp-kaggleAPI\n",
    "!gsutil -m cp /yelp_academic_dataset_checkin.json gs://msca-bdp-student-gcs/group2/yelp-kaggleAPI\n",
    "!gsutil -m cp /yelp_academic_dataset_review.json gs://msca-bdp-student-gcs/group2/yelp-kaggleAPI\n",
    "!gsutil -m cp /yelp_academic_dataset_tip.json gs://msca-bdp-student-gcs/group2/yelp-kaggleAPI\n",
    "!gsutil -m cp /yelp_academic_dataset_user.json gs://msca-bdp-student-gcs/group2/yelp-kaggleAPI"
   ]
  }
 ],
 "metadata": {
  "kernelspec": {
   "display_name": "PySpark",
   "language": "python",
   "name": "pyspark"
  },
  "language_info": {
   "codemirror_mode": {
    "name": "ipython",
    "version": 3
   },
   "file_extension": ".py",
   "mimetype": "text/x-python",
   "name": "python",
   "nbconvert_exporter": "python",
   "pygments_lexer": "ipython3",
   "version": "3.8.15"
  }
 },
 "nbformat": 4,
 "nbformat_minor": 5
}
