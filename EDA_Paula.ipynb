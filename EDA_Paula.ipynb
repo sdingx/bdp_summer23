{
 "cells": [
  {
   "cell_type": "code",
   "execution_count": 1,
   "metadata": {},
   "outputs": [],
   "source": [
    "from pyspark.sql import SparkSession\n",
    "from pyspark.sql import functions as F\n",
    "import matplotlib.pyplot as plt\n",
    "import pandas as pd\n",
    "import geopandas as gpd"
   ]
  },
  {
   "cell_type": "code",
   "execution_count": 2,
   "metadata": {},
   "outputs": [],
   "source": [
    "#create Spark session\n",
    "spark = SparkSession.builder.appName('YelpML').getOrCreate()\n",
    "\n",
    "#change configuration settings on Spark \n",
    "conf = spark.sparkContext._conf.setAll([('spark.executor.memory', '5g'), ('spark.app.name', 'Spark Updated Conf'), ('spark.executor.cores', '4'), ('spark.cores.max', '4'), ('spark.driver.memory','8g')])\n",
    "\n",
    "#print spark configuration settings\n",
    "#spark.sparkContext.getConf().getAll()"
   ]
  },
  {
   "cell_type": "code",
   "execution_count": 35,
   "metadata": {},
   "outputs": [
    {
     "name": "stderr",
     "output_type": "stream",
     "text": [
      "                                                                                \r"
     ]
    }
   ],
   "source": [
    "# Import Data\n",
    "dataDir = \"gs://msca-bdp-student-gcs/group2/yelp-datasample2\"\n",
    "business = spark.read.json(dataDir + \"/sample_business\")\n",
    "checkin = spark.read.json(dataDir + \"/sample_checkin\")\n",
    "review = spark.read.json(dataDir + \"/sample_review\")\n",
    "tip = spark.read.json(dataDir + \"/sample_tip\")\n",
    "user = spark.read.json(dataDir + \"/sample_user\")"
   ]
  },
  {
   "cell_type": "code",
   "execution_count": 38,
   "metadata": {},
   "outputs": [
    {
     "name": "stdout",
     "output_type": "stream",
     "text": [
      "+-------------------+--------------------+--------------------+--------------------+-------------------+--------------------+-------+-------------+--------------+--------------------+-----------+------------+-----+-----+\n",
      "|            address|          attributes|         business_id|          categories|               city|               hours|is_open|     latitude|     longitude|                name|postal_code|review_count|stars|state|\n",
      "+-------------------+--------------------+--------------------+--------------------+-------------------+--------------------+-------+-------------+--------------+--------------------+-----------+------------+-----+-----+\n",
      "|      2141 Caton St|{null, null, null...|FR5xx5YEzxAnoMdqG...|Fitness & Instruc...|        New Orleans|{0:0-0:0, 0:0-0:0...|      1|   29.9991154|   -90.0607732|     Anytime Fitness|      70122|           6|  3.0|   LA|\n",
      "|5413 Neshaminy Blvd|{null, null, u'no...|p184f-Zvf4ToPwLba...|Chinese, Restaura...|           Bensalem|{11:30-23:0, null...|      0|   40.1447023|    -74.934106|         Misto Diner|      19020|          26|  3.5|   PA|\n",
      "|     222R US Hwy 13|{null, null, null...|cl5NjtALgaX7E-WL2...|Food, Wholesalers...|            Bristol|{10:0-18:0, 10:0-...|      1|    40.100524|    -74.865196|Liberty City Roas...|      19007|           8|  4.5|   PA|\n",
      "|    2021 Zumbehl Rd|{null, null, 'ful...|Q-a-DzqRufrPL6EcU...|Beer, Wine & Spir...|      Saint Charles|{6:0-20:0, 0:0-0:...|      1|38.7825309858|-90.5346399689|   Dierbergs Markets|      63303|          23|  3.5|   MO|\n",
      "|      1251 River Rd|{null, null, u'no...|isbeaPln-E0DdffLR...|Specialty Food, M...|Washington Crossing|{17:0-22:0, null,...|      1|   40.3136566|   -74.8957796|Francisco's On Th...|      18977|         109|  4.0|   PA|\n",
      "+-------------------+--------------------+--------------------+--------------------+-------------------+--------------------+-------+-------------+--------------+--------------------+-----------+------------+-----+-----+\n",
      "only showing top 5 rows\n",
      "\n"
     ]
    }
   ],
   "source": [
    "business.show(5)"
   ]
  },
  {
   "cell_type": "code",
   "execution_count": 5,
   "metadata": {},
   "outputs": [
    {
     "name": "stdout",
     "output_type": "stream",
     "text": [
      "+-------+----------+-----------+----------+----+-----+-------+--------+---------+----+-----------+------------+-----+-----+\n",
      "|address|attributes|business_id|categories|city|hours|is_open|latitude|longitude|name|postal_code|review_count|stars|state|\n",
      "+-------+----------+-----------+----------+----+-----+-------+--------+---------+----+-----------+------------+-----+-----+\n",
      "|      0|       170|          0|         2|   0|  250|      0|       0|        0|   0|          0|           0|    0|    0|\n",
      "+-------+----------+-----------+----------+----+-----+-------+--------+---------+----+-----------+------------+-----+-----+\n",
      "\n"
     ]
    }
   ],
   "source": [
    "from pyspark.sql.functions import isnan, when, count\n",
    "business.select([count(when(business[c].isNull(), c)).alias(c) for c in business.columns]).show()"
   ]
  },
  {
   "cell_type": "code",
   "execution_count": 6,
   "metadata": {},
   "outputs": [
    {
     "name": "stderr",
     "output_type": "stream",
     "text": [
      "                                                                                \r"
     ]
    },
    {
     "data": {
      "text/plain": [
       "1617"
      ]
     },
     "execution_count": 6,
     "metadata": {},
     "output_type": "execute_result"
    }
   ],
   "source": [
    "# 1. How many unique business?\n",
    "business.select('business_id').distinct().count()"
   ]
  },
  {
   "cell_type": "code",
   "execution_count": 7,
   "metadata": {},
   "outputs": [
    {
     "name": "stdout",
     "output_type": "stream",
     "text": [
      "+-----------------------------------------------------------------------------------------------------------------------+\n",
      "|categories                                                                                                             |\n",
      "+-----------------------------------------------------------------------------------------------------------------------+\n",
      "|African, American (Traditional), Restaurants                                                                           |\n",
      "|Cosmetics & Beauty Supply, Nail Salons, Shopping, Beauty & Spas                                                        |\n",
      "|Parks, Active Life                                                                                                     |\n",
      "|Obstetricians & Gynecologists, Health & Medical, Doctors                                                               |\n",
      "|Shopping, Food, Drugstores, Pharmacy, Health & Medical, Convenience Stores                                             |\n",
      "|Food, Ice Cream & Frozen Yogurt                                                                                        |\n",
      "|Active Life, Parks                                                                                                     |\n",
      "|Restaurants, Pizza                                                                                                     |\n",
      "|Bagels, Restaurants, Food                                                                                              |\n",
      "|Homeowner Association, Home Services, Real Estate, Arts & Entertainment, Social Clubs                                  |\n",
      "|Tacos, New Mexican Cuisine, Restaurants, Mexican, Japanese, Ramen                                                      |\n",
      "|Smog Check Stations, Automotive, Auto Repair, Oil Change Stations                                                      |\n",
      "|Septic Services, Air Duct Cleaning, Water Heater Installation/Repair, Home Services, Plumbing, Local Services          |\n",
      "|Doctors, Health & Medical                                                                                              |\n",
      "|Shopping, Cosmetics & Beauty Supply, Food, Convenience Stores, Beauty & Spas, Photography Stores & Services, Drugstores|\n",
      "|Beauty & Spas, Hair Stylists, Hair Salons, Men's Hair Salons, Barbers                                                  |\n",
      "|Restaurants, Delis, Sandwiches, Fast Food                                                                              |\n",
      "|Pets, Pet Adoption, Animal Shelters, Pet Stores                                                                        |\n",
      "|Car Wash, Automotive                                                                                                   |\n",
      "|Pest Control, Local Services, Home Inspectors, Home Services                                                           |\n",
      "+-----------------------------------------------------------------------------------------------------------------------+\n",
      "only showing top 20 rows\n",
      "\n"
     ]
    }
   ],
   "source": [
    "# 2. What are the top 10 categories?\n",
    "business.select('categories').distinct().show(truncate = False)"
   ]
  },
  {
   "cell_type": "code",
   "execution_count": 37,
   "metadata": {},
   "outputs": [],
   "source": [
    "from pyspark.sql.functions import explode, split\n",
    "business1 = business.withColumn('categories_split', explode(split('categories', ', ')))"
   ]
  },
  {
   "cell_type": "code",
   "execution_count": 27,
   "metadata": {},
   "outputs": [],
   "source": [
    "df1 = business1.groupby('categories_split').count().orderBy('count', ascending = [0])"
   ]
  },
  {
   "cell_type": "code",
   "execution_count": 10,
   "metadata": {},
   "outputs": [
    {
     "name": "stdout",
     "output_type": "stream",
     "text": [
      "+----------------+-----+\n",
      "|categories_split|count|\n",
      "+----------------+-----+\n",
      "|Restaurants     |589  |\n",
      "|Food            |303  |\n",
      "|Shopping        |264  |\n",
      "|Beauty & Spas   |154  |\n",
      "|Home Services   |145  |\n",
      "|Health & Medical|132  |\n",
      "|Automotive      |129  |\n",
      "|Nightlife       |124  |\n",
      "|Bars            |113  |\n",
      "|Local Services  |111  |\n",
      "+----------------+-----+\n",
      "only showing top 10 rows\n",
      "\n"
     ]
    }
   ],
   "source": [
    "df1.show(10, truncate = False)"
   ]
  },
  {
   "cell_type": "code",
   "execution_count": 11,
   "metadata": {},
   "outputs": [
    {
     "data": {
      "text/html": [
       "<div>\n",
       "<style scoped>\n",
       "    .dataframe tbody tr th:only-of-type {\n",
       "        vertical-align: middle;\n",
       "    }\n",
       "\n",
       "    .dataframe tbody tr th {\n",
       "        vertical-align: top;\n",
       "    }\n",
       "\n",
       "    .dataframe thead th {\n",
       "        text-align: right;\n",
       "    }\n",
       "</style>\n",
       "<table border=\"1\" class=\"dataframe\">\n",
       "  <thead>\n",
       "    <tr style=\"text-align: right;\">\n",
       "      <th></th>\n",
       "      <th>categories_split</th>\n",
       "      <th>count</th>\n",
       "    </tr>\n",
       "  </thead>\n",
       "  <tbody>\n",
       "    <tr>\n",
       "      <th>0</th>\n",
       "      <td>Restaurants</td>\n",
       "      <td>589</td>\n",
       "    </tr>\n",
       "    <tr>\n",
       "      <th>1</th>\n",
       "      <td>Food</td>\n",
       "      <td>303</td>\n",
       "    </tr>\n",
       "    <tr>\n",
       "      <th>2</th>\n",
       "      <td>Shopping</td>\n",
       "      <td>264</td>\n",
       "    </tr>\n",
       "    <tr>\n",
       "      <th>3</th>\n",
       "      <td>Beauty &amp; Spas</td>\n",
       "      <td>154</td>\n",
       "    </tr>\n",
       "    <tr>\n",
       "      <th>4</th>\n",
       "      <td>Home Services</td>\n",
       "      <td>145</td>\n",
       "    </tr>\n",
       "  </tbody>\n",
       "</table>\n",
       "</div>"
      ],
      "text/plain": [
       "  categories_split  count\n",
       "0      Restaurants    589\n",
       "1             Food    303\n",
       "2         Shopping    264\n",
       "3    Beauty & Spas    154\n",
       "4    Home Services    145"
      ]
     },
     "execution_count": 11,
     "metadata": {},
     "output_type": "execute_result"
    }
   ],
   "source": [
    "pdf1 = df1.toPandas()\n",
    "pdf1.head()"
   ]
  },
  {
   "cell_type": "code",
   "execution_count": 12,
   "metadata": {},
   "outputs": [
    {
     "data": {
      "image/png": "[encoded data removed]",
      "text/plain": [
       "<Figure size 1000x600 with 1 Axes>"
      ]
     },
     "metadata": {},
     "output_type": "display_data"
    }
   ],
   "source": [
    "top_10_categories = pdf1.head(10)\n",
    "\n",
    "plt.figure(figsize=(10, 6))\n",
    "plt.barh(top_10_categories['categories_split'], top_10_categories['count'], color='skyblue')\n",
    "plt.xlabel('Count')\n",
    "plt.ylabel('Categories')\n",
    "plt.title('Top 10 Categories Count')\n",
    "plt.gca().invert_yaxis()  \n",
    "plt.tight_layout()\n",
    "\n",
    "# Display the plot\n",
    "plt.show()"
   ]
  },
  {
   "cell_type": "code",
   "execution_count": 13,
   "metadata": {},
   "outputs": [],
   "source": [
    "# 3. Business Location"
   ]
  },
  {
   "cell_type": "code",
   "execution_count": 14,
   "metadata": {},
   "outputs": [],
   "source": [
    "df2 = business.groupby('state').count().orderBy('count', ascending =[0])"
   ]
  },
  {
   "cell_type": "code",
   "execution_count": 15,
   "metadata": {},
   "outputs": [
    {
     "name": "stdout",
     "output_type": "stream",
     "text": [
      "+-----+-----+\n",
      "|state|count|\n",
      "+-----+-----+\n",
      "|   PA| 1715|\n",
      "|   FL| 1310|\n",
      "|   MO|  591|\n",
      "|   TN|  563|\n",
      "|   IN|  495|\n",
      "|   AZ|  468|\n",
      "|   LA|  454|\n",
      "|   NJ|  425|\n",
      "|   NV|  330|\n",
      "|   CA|  243|\n",
      "|   ID|  217|\n",
      "|   AB|  188|\n",
      "|   IL|  109|\n",
      "|   DE|   77|\n",
      "|   WA|    2|\n",
      "+-----+-----+\n",
      "\n"
     ]
    }
   ],
   "source": [
    "df2.show()"
   ]
  },
  {
   "cell_type": "code",
   "execution_count": 16,
   "metadata": {},
   "outputs": [
    {
     "data": {
      "text/html": [
       "<div>\n",
       "<style scoped>\n",
       "    .dataframe tbody tr th:only-of-type {\n",
       "        vertical-align: middle;\n",
       "    }\n",
       "\n",
       "    .dataframe tbody tr th {\n",
       "        vertical-align: top;\n",
       "    }\n",
       "\n",
       "    .dataframe thead th {\n",
       "        text-align: right;\n",
       "    }\n",
       "</style>\n",
       "<table border=\"1\" class=\"dataframe\">\n",
       "  <thead>\n",
       "    <tr style=\"text-align: right;\">\n",
       "      <th></th>\n",
       "      <th>state</th>\n",
       "      <th>count</th>\n",
       "    </tr>\n",
       "  </thead>\n",
       "  <tbody>\n",
       "    <tr>\n",
       "      <th>0</th>\n",
       "      <td>PA</td>\n",
       "      <td>1715</td>\n",
       "    </tr>\n",
       "    <tr>\n",
       "      <th>1</th>\n",
       "      <td>FL</td>\n",
       "      <td>1310</td>\n",
       "    </tr>\n",
       "    <tr>\n",
       "      <th>2</th>\n",
       "      <td>MO</td>\n",
       "      <td>591</td>\n",
       "    </tr>\n",
       "    <tr>\n",
       "      <th>3</th>\n",
       "      <td>TN</td>\n",
       "      <td>563</td>\n",
       "    </tr>\n",
       "    <tr>\n",
       "      <th>4</th>\n",
       "      <td>IN</td>\n",
       "      <td>495</td>\n",
       "    </tr>\n",
       "  </tbody>\n",
       "</table>\n",
       "</div>"
      ],
      "text/plain": [
       "  state  count\n",
       "0    PA   1715\n",
       "1    FL   1310\n",
       "2    MO    591\n",
       "3    TN    563\n",
       "4    IN    495"
      ]
     },
     "execution_count": 16,
     "metadata": {},
     "output_type": "execute_result"
    }
   ],
   "source": [
    "pdf2 = df2.toPandas()\n",
    "pdf2.head()"
   ]
  },
  {
   "cell_type": "code",
   "execution_count": 17,
   "metadata": {},
   "outputs": [],
   "source": [
    "import geopandas as gpd\n",
    "import pandas as pd\n",
    "import matplotlib.pyplot as plt\n",
    "\n",
    "# # Load the US states GeoJSON file\n",
    "# us_states = gpd.read_file('https://raw.githubusercontent.com/plotly/datasets/master/geojson-counties-fips.json')\n",
    "\n",
    "# # Your DataFrame\n",
    "# data = {\n",
    "#     'state': ['PA', 'FL', 'MO', 'TN', 'IN', 'AZ', 'LA', 'NJ', 'NV', 'CA', 'ID', 'AB', 'IL', 'DE', 'WA'],\n",
    "#     'count': [1715, 1310, 591, 563, 495, 468, 454, 425, 330, 243, 217, 188, 109, 77, 2]\n",
    "# }\n",
    "# pdf2 = pd.DataFrame(data)\n",
    "\n",
    "# # Merge with the GeoDataFrame\n",
    "# merged = us_states.merge(pdf2, left_on='id', right_on='state', how='left')\n",
    "\n",
    "# # Create a figure and axis\n",
    "# fig, ax = plt.subplots(1, 1, figsize=(15, 10))\n",
    "\n",
    "# # Plot the map\n",
    "# merged.plot(column='count', cmap='YlOrRd', linewidth=0.8, ax=ax, edgecolor='0.8', legend=True)\n",
    "\n",
    "# # Add a title\n",
    "# plt.title('Business Distribution by State')\n",
    "\n",
    "# # Remove the axis\n",
    "# ax.set_axis_off()\n",
    "\n",
    "# # Show the plot\n",
    "# plt.show()\n"
   ]
  },
  {
   "cell_type": "code",
   "execution_count": 18,
   "metadata": {},
   "outputs": [
    {
     "name": "stdout",
     "output_type": "stream",
     "text": [
      "Requirement already satisfied: plotly-express in /opt/conda/miniconda3/lib/python3.8/site-packages (0.4.1)\n",
      "Requirement already satisfied: pandas>=0.20.0 in /opt/conda/miniconda3/lib/python3.8/site-packages (from plotly-express) (1.2.5)\n",
      "Requirement already satisfied: plotly>=4.1.0 in /opt/conda/miniconda3/lib/python3.8/site-packages (from plotly-express) (5.15.0)\n",
      "Requirement already satisfied: statsmodels>=0.9.0 in /opt/conda/miniconda3/lib/python3.8/site-packages (from plotly-express) (0.13.2)\n",
      "Requirement already satisfied: scipy>=0.18 in /opt/conda/miniconda3/lib/python3.8/site-packages (from plotly-express) (1.6.3)\n",
      "Requirement already satisfied: patsy>=0.5 in /opt/conda/miniconda3/lib/python3.8/site-packages (from plotly-express) (0.5.3)\n",
      "Requirement already satisfied: numpy>=1.11 in /opt/conda/miniconda3/lib/python3.8/site-packages (from plotly-express) (1.19.5)\n",
      "Requirement already satisfied: python-dateutil>=2.7.3 in /opt/conda/miniconda3/lib/python3.8/site-packages (from pandas>=0.20.0->plotly-express) (2.8.0)\n",
      "Requirement already satisfied: pytz>=2017.3 in /opt/conda/miniconda3/lib/python3.8/site-packages (from pandas>=0.20.0->plotly-express) (2023.3)\n",
      "Requirement already satisfied: six in /opt/conda/miniconda3/lib/python3.8/site-packages (from patsy>=0.5->plotly-express) (1.16.0)\n",
      "Requirement already satisfied: tenacity>=6.2.0 in /opt/conda/miniconda3/lib/python3.8/site-packages (from plotly>=4.1.0->plotly-express) (8.2.2)\n",
      "Requirement already satisfied: packaging in /opt/conda/miniconda3/lib/python3.8/site-packages (from plotly>=4.1.0->plotly-express) (23.1)\n",
      "\u001b[33mWARNING: Running pip as the 'root' user can result in broken permissions and conflicting behaviour with the system package manager. It is recommended to use a virtual environment instead: https://pip.pypa.io/warnings/venv\u001b[0m\u001b[33m\n",
      "\u001b[0mNote: you may need to restart the kernel to use updated packages.\n"
     ]
    }
   ],
   "source": [
    "#pip install plotly-express"
   ]
  },
  {
   "cell_type": "code",
   "execution_count": null,
   "metadata": {},
   "outputs": [],
   "source": [
    "# import plotly.express as px\n",
    "\n",
    "# data = {\n",
    "#     'state': ['AL', 'AK', 'AZ', 'AR', 'CA', 'CO', 'CT', 'DE', 'FL', 'GA', 'HI', 'ID', 'IL', 'IN', 'IA', 'KS', 'KY', 'LA', 'ME', 'MD', 'MA', 'MI', 'MN', 'MS', 'MO', 'MT', 'NE', 'NV', 'NH', 'NJ', 'NM', 'NY', 'NC', 'ND', 'OH', 'OK', 'OR', 'PA', 'RI', 'SC', 'SD', 'TN', 'TX', 'UT', 'VT', 'VA', 'WA', 'WV', 'WI', 'WY'],\n",
    "#     'count': [0] * 50  # You can update this count with your desired values\n",
    "# }\n",
    "\n",
    "# pdf2 = pd.DataFrame(data)\n",
    "\n",
    "# fig = px.choropleth(pdf2,\n",
    "#                     locations= 'state', \n",
    "#                     locationmode=\"USA-states\", \n",
    "#                     scope=\"usa\",\n",
    "#                     color='count',\n",
    "#                     color_continuous_scale=\"Viridis_r\")\n",
    "# fig.show()"
   ]
  },
  {
   "cell_type": "code",
   "execution_count": 28,
   "metadata": {},
   "outputs": [
    {
     "name": "stderr",
     "output_type": "stream",
     "text": [
      "                                                                                \r"
     ]
    },
    {
     "data": {
      "image/png": "[encoded data removed]",
      "text/plain": [
       "<Figure size 640x480 with 1 Axes>"
      ]
     },
     "metadata": {},
     "output_type": "display_data"
    }
   ],
   "source": [
    "# Review Count Distribution\n",
    "review_count_dist = business.select(\"review_count\").rdd.flatMap(lambda x: x).histogram(10)\n",
    "counts = review_count_dist[1]\n",
    "bins = review_count_dist[0]\n",
    "\n",
    "plt.bar(bins[:-1], counts, width=(bins[1]-bins[0]), align='edge')\n",
    "plt.xlabel('Review Count')\n",
    "plt.ylabel('Frequency')\n",
    "plt.title('Review Count Distribution')\n",
    "plt.show()"
   ]
  },
  {
   "cell_type": "code",
   "execution_count": 57,
   "metadata": {},
   "outputs": [
    {
     "name": "stdout",
     "output_type": "stream",
     "text": [
      "Max Review Count: 1113\n",
      "Min Review Count: 5\n",
      "Avg Review Count: 39.33828076685219\n",
      "Median Review Count: 14.0\n"
     ]
    }
   ],
   "source": [
    "max_review_count = business.selectExpr(\"max(review_count) as max_review_count\").collect()[0][\"max_review_count\"]\n",
    "min_review_count = business.selectExpr(\"min(review_count) as min_review_count\").collect()[0][\"min_review_count\"]\n",
    "avg_review_count = business.selectExpr(\"avg(review_count) as avg_review_count\").collect()[0][\"avg_review_count\"]\n",
    "median_review_count = business.approxQuantile(\"review_count\", [0.5], 0.01)[0]\n",
    "\n",
    "print(f\"Max Review Count: {max_review_count}\")\n",
    "print(f\"Min Review Count: {min_review_count}\")\n",
    "print(f\"Avg Review Count: {avg_review_count}\")\n",
    "print(f\"Median Review Count: {median_review_count}\")"
   ]
  },
  {
   "cell_type": "code",
   "execution_count": 53,
   "metadata": {},
   "outputs": [],
   "source": [
    "# Top 10 Review Count Business\n",
    "from pyspark.sql.functions import col, expr, desc\n",
    "df3 = business.orderBy(desc(\"review_count\")).limit(10).select(\"name\", \"review_count\", 'stars')"
   ]
  },
  {
   "cell_type": "code",
   "execution_count": 54,
   "metadata": {},
   "outputs": [
    {
     "name": "stdout",
     "output_type": "stream",
     "text": [
      "+---------------------------+------------+-----+\n",
      "|name                       |review_count|stars|\n",
      "+---------------------------+------------+-----+\n",
      "|Sugarfire Smoke House      |1113        |4.0  |\n",
      "|El Rey                     |968         |3.5  |\n",
      "|Saint Louis Zoo            |866         |4.5  |\n",
      "|Wright's Gourmet House     |701         |4.5  |\n",
      "|Yah Mon                    |697         |4.5  |\n",
      "|The Pop Shop - Collingswood|603         |3.5  |\n",
      "|Dock Street Brewery        |549         |4.0  |\n",
      "|Cafe Sbisa                 |531         |4.5  |\n",
      "|Triumph Brewing Company    |490         |3.5  |\n",
      "|The Belgian Café           |474         |3.5  |\n",
      "+---------------------------+------------+-----+\n",
      "\n"
     ]
    }
   ],
   "source": [
    "df3.show(truncate = False)"
   ]
  },
  {
   "cell_type": "code",
   "execution_count": 45,
   "metadata": {},
   "outputs": [
    {
     "data": {
      "text/html": [
       "<div>\n",
       "<style scoped>\n",
       "    .dataframe tbody tr th:only-of-type {\n",
       "        vertical-align: middle;\n",
       "    }\n",
       "\n",
       "    .dataframe tbody tr th {\n",
       "        vertical-align: top;\n",
       "    }\n",
       "\n",
       "    .dataframe thead th {\n",
       "        text-align: right;\n",
       "    }\n",
       "</style>\n",
       "<table border=\"1\" class=\"dataframe\">\n",
       "  <thead>\n",
       "    <tr style=\"text-align: right;\">\n",
       "      <th></th>\n",
       "      <th>name</th>\n",
       "      <th>review_count</th>\n",
       "    </tr>\n",
       "  </thead>\n",
       "  <tbody>\n",
       "    <tr>\n",
       "      <th>0</th>\n",
       "      <td>Sugarfire Smoke House</td>\n",
       "      <td>1113</td>\n",
       "    </tr>\n",
       "    <tr>\n",
       "      <th>1</th>\n",
       "      <td>El Rey</td>\n",
       "      <td>968</td>\n",
       "    </tr>\n",
       "    <tr>\n",
       "      <th>2</th>\n",
       "      <td>Saint Louis Zoo</td>\n",
       "      <td>866</td>\n",
       "    </tr>\n",
       "    <tr>\n",
       "      <th>3</th>\n",
       "      <td>Wright's Gourmet House</td>\n",
       "      <td>701</td>\n",
       "    </tr>\n",
       "    <tr>\n",
       "      <th>4</th>\n",
       "      <td>Yah Mon</td>\n",
       "      <td>697</td>\n",
       "    </tr>\n",
       "  </tbody>\n",
       "</table>\n",
       "</div>"
      ],
      "text/plain": [
       "                     name  review_count\n",
       "0   Sugarfire Smoke House          1113\n",
       "1                  El Rey           968\n",
       "2         Saint Louis Zoo           866\n",
       "3  Wright's Gourmet House           701\n",
       "4                 Yah Mon           697"
      ]
     },
     "execution_count": 45,
     "metadata": {},
     "output_type": "execute_result"
    }
   ],
   "source": [
    "pdf3 = df3.toPandas()\n",
    "pdf3.head()"
   ]
  },
  {
   "cell_type": "code",
   "execution_count": 46,
   "metadata": {},
   "outputs": [
    {
     "data": {
      "image/png": "[encoded data removed]",
      "text/plain": [
       "<Figure size 1000x600 with 1 Axes>"
      ]
     },
     "metadata": {},
     "output_type": "display_data"
    }
   ],
   "source": [
    "top_10_categories = pdf3.head(10)\n",
    "\n",
    "plt.figure(figsize=(10, 6))\n",
    "plt.barh(top_10_categories['name'], top_10_categories['review_count'], color='skyblue')\n",
    "plt.xlabel('Count')\n",
    "plt.ylabel('Business Name')\n",
    "plt.title('Top 10 Business Review Count')\n",
    "plt.gca().invert_yaxis()  \n",
    "plt.tight_layout()\n",
    "\n",
    "# Display the plot\n",
    "plt.show()"
   ]
  },
  {
   "cell_type": "code",
   "execution_count": null,
   "metadata": {},
   "outputs": [],
   "source": [
    "# Ratings Distribution"
   ]
  },
  {
   "cell_type": "code",
   "execution_count": 48,
   "metadata": {},
   "outputs": [
    {
     "name": "stdout",
     "output_type": "stream",
     "text": [
      "Max Rating: 5.0\n",
      "Min Rating: 1.0\n",
      "Avg Rating: 3.6020408163265305\n"
     ]
    }
   ],
   "source": [
    "max_rating = business.selectExpr(\"max(stars) as max_rating\").collect()[0][\"max_rating\"]\n",
    "min_rating = business.selectExpr(\"min(stars) as min_rating\").collect()[0][\"min_rating\"]\n",
    "avg_rating = business.selectExpr(\"avg(stars) as avg_rating\").collect()[0][\"avg_rating\"]\n",
    "\n",
    "print(f\"Max Rating: {max_rating}\")\n",
    "print(f\"Min Rating: {min_rating}\")\n",
    "print(f\"Avg Rating: {avg_rating}\")"
   ]
  },
  {
   "cell_type": "code",
   "execution_count": 49,
   "metadata": {},
   "outputs": [
    {
     "data": {
      "image/png": "[encoded data removed]",
      "text/plain": [
       "<Figure size 640x480 with 1 Axes>"
      ]
     },
     "metadata": {},
     "output_type": "display_data"
    }
   ],
   "source": [
    "rating_dist = business.select(\"stars\").rdd.flatMap(lambda x: x).histogram(5)  # 可根据需要调整分箱数\n",
    "counts = rating_dist[1]\n",
    "bins = rating_dist[0]\n",
    "\n",
    "plt.bar(bins[:-1], counts, width=(bins[1]-bins[0]), align='edge')\n",
    "plt.xlabel('Rating')\n",
    "plt.ylabel('Frequency')\n",
    "plt.title('Rating Distribution')\n",
    "plt.show()"
   ]
  },
  {
   "cell_type": "code",
   "execution_count": 55,
   "metadata": {},
   "outputs": [
    {
     "name": "stdout",
     "output_type": "stream",
     "text": [
      "+---------------------------------+-----+------------+\n",
      "|name                             |stars|review_count|\n",
      "+---------------------------------+-----+------------+\n",
      "|Nyejah Bolds Photography         |5.0  |8           |\n",
      "|Michael C Gribbin, DMD           |5.0  |7           |\n",
      "|Hair Force                       |5.0  |13          |\n",
      "|Hot Diggity Dog                  |5.0  |5           |\n",
      "|Able Garage Door Service         |5.0  |17          |\n",
      "|Post Pack & Ship                 |5.0  |9           |\n",
      "|Free Tours By Foot               |5.0  |184         |\n",
      "|Karries Kostumes & Dance Supplies|5.0  |12          |\n",
      "|Meyers Automotive                |5.0  |7           |\n",
      "|Melissa Ems Insurance Agency     |5.0  |5           |\n",
      "+---------------------------------+-----+------------+\n",
      "\n"
     ]
    }
   ],
   "source": [
    "top_ten_ratings = business.orderBy(desc(\"stars\")).limit(10).select(\"name\", \"stars\", 'review_count')\n",
    "top_ten_ratings.show(truncate=False)"
   ]
  },
  {
   "cell_type": "markdown",
   "metadata": {},
   "source": [
    "Comparing the top restaurant lists given by highest rating versus highest review counts resulted in the observation that the two criteria don’t appear to show strong correlation to each other."
   ]
  },
  {
   "cell_type": "code",
   "execution_count": 58,
   "metadata": {},
   "outputs": [
    {
     "name": "stdout",
     "output_type": "stream",
     "text": [
      "+---------------------------------------------------+-----+------------+\n",
      "|name                                               |stars|review_count|\n",
      "+---------------------------------------------------+-----+------------+\n",
      "|Free Tours By Foot                                 |5.0  |184         |\n",
      "|Tim's Bakery                                       |5.0  |115         |\n",
      "|Taste Santa Barbara Food Tours                     |5.0  |124         |\n",
      "|Nok's Expert Thai Massage Center                   |5.0  |53          |\n",
      "|Pure-trition                                       |5.0  |56          |\n",
      "|Les Fleurs Salon                                   |5.0  |82          |\n",
      "|The Artist Haus                                    |5.0  |78          |\n",
      "|The Junkluggers of Philadelphia & Montgomery County|5.0  |40          |\n",
      "|Pasta Fresca                                       |5.0  |159         |\n",
      "|Newfields: A Place for Nature and the Arts         |4.5  |373         |\n",
      "+---------------------------------------------------+-----+------------+\n",
      "\n"
     ]
    }
   ],
   "source": [
    "top_ten_ratings = business.where(col('review_count') >= avg_review_count).orderBy(desc(\"stars\")).limit(10).select(\"name\", \"stars\", 'review_count')\n",
    "top_ten_ratings.show(truncate=False)"
   ]
  },
  {
   "cell_type": "code",
   "execution_count": 59,
   "metadata": {},
   "outputs": [
    {
     "name": "stdout",
     "output_type": "stream",
     "text": [
      "City with most high-rated businesses: Philadelphia, Count: 49\n",
      "City with most low-rated businesses: Philadelphia, Count: 36\n"
     ]
    }
   ],
   "source": [
    "high_rating_city = business.filter(col(\"stars\") >= 4.5).groupBy(\"city\").count().orderBy(desc(\"count\")).first()\n",
    "low_rating_city = business.filter(col(\"stars\") <= 2.5).groupBy(\"city\").count().orderBy(desc(\"count\")).first()\n",
    "\n",
    "print(f\"City with most high-rated businesses: {high_rating_city['city']}, Count: {high_rating_city['count']}\")\n",
    "print(f\"City with most low-rated businesses: {low_rating_city['city']}, Count: {low_rating_city['count']}\")"
   ]
  },
  {
   "cell_type": "code",
   "execution_count": null,
   "metadata": {},
   "outputs": [],
   "source": [
    "checkin.show()"
   ]
  },
  {
   "cell_type": "code",
   "execution_count": null,
   "metadata": {},
   "outputs": [],
   "source": [
    "review.show()"
   ]
  },
  {
   "cell_type": "code",
   "execution_count": null,
   "metadata": {},
   "outputs": [],
   "source": [
    "tip.show(5)"
   ]
  },
  {
   "cell_type": "code",
   "execution_count": null,
   "metadata": {},
   "outputs": [],
   "source": [
    "user.show()"
   ]
  },
  {
   "cell_type": "code",
   "execution_count": null,
   "metadata": {},
   "outputs": [],
   "source": []
  },
  {
   "cell_type": "code",
   "execution_count": null,
   "metadata": {},
   "outputs": [],
   "source": []
  }
 ],
 "metadata": {
  "kernelspec": {
   "display_name": "PySpark",
   "language": "python",
   "name": "pyspark"
  },
  "language_info": {
   "codemirror_mode": {
    "name": "ipython",
    "version": 3
   },
   "file_extension": ".py",
   "mimetype": "text/x-python",
   "name": "python",
   "nbconvert_exporter": "python",
   "pygments_lexer": "ipython3",
   "version": "3.8.15"
  }
 },
 "nbformat": 4,
 "nbformat_minor": 4
}
