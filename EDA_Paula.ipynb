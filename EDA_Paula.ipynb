{
 "cells": [
  {
   "cell_type": "code",
   "execution_count": 1,
   "metadata": {},
   "outputs": [],
   "source": [
    "from pyspark.sql import SparkSession\n",
    "from pyspark.sql import functions as F\n",
    "import matplotlib.pyplot as plt\n",
    "import pandas as pd\n",
    "import geopandas as gpd"
   ]
  },
  {
   "cell_type": "code",
   "execution_count": 2,
   "metadata": {},
   "outputs": [],
   "source": [
    "#create Spark session\n",
    "spark = SparkSession.builder.appName('YelpML').getOrCreate()\n",
    "\n",
    "#change configuration settings on Spark \n",
    "conf = spark.sparkContext._conf.setAll([('spark.executor.memory', '5g'), ('spark.app.name', 'Spark Updated Conf'), ('spark.executor.cores', '4'), ('spark.cores.max', '4'), ('spark.driver.memory','8g')])\n",
    "\n",
    "#print spark configuration settings\n",
    "#spark.sparkContext.getConf().getAll()"
   ]
  },
  {
   "cell_type": "code",
   "execution_count": 3,
   "metadata": {},
   "outputs": [
    {
     "name": "stderr",
     "output_type": "stream",
     "text": [
      "23/08/07 05:04:07 WARN org.apache.spark.sql.catalyst.util.package: Truncated the string representation of a plan since it was too large. This behavior can be adjusted by setting 'spark.sql.debug.maxToStringFields'.\n",
      "                                                                                \r"
     ]
    }
   ],
   "source": [
    "# Import Data\n",
    "dataDir = \"gs://msca-bdp-student-gcs/group2/yelp-datasample2\"\n",
    "business = spark.read.json(dataDir + \"/sample_business\")\n",
    "checkin = spark.read.json(dataDir + \"/sample_checkin\")\n",
    "review = spark.read.json(dataDir + \"/sample_review\")\n",
    "tip = spark.read.json(dataDir + \"/sample_tip\")\n",
    "user = spark.read.json(dataDir + \"/sample_user\")"
   ]
  },
  {
   "cell_type": "code",
   "execution_count": 4,
   "metadata": {},
   "outputs": [
    {
     "name": "stdout",
     "output_type": "stream",
     "text": [
      "+-------------------+--------------------+--------------------+--------------------+-------------------+--------------------+-------+-------------+--------------+--------------------+-----------+------------+-----+-----+\n",
      "|            address|          attributes|         business_id|          categories|               city|               hours|is_open|     latitude|     longitude|                name|postal_code|review_count|stars|state|\n",
      "+-------------------+--------------------+--------------------+--------------------+-------------------+--------------------+-------+-------------+--------------+--------------------+-----------+------------+-----+-----+\n",
      "|      2141 Caton St|{null, null, null...|FR5xx5YEzxAnoMdqG...|Fitness & Instruc...|        New Orleans|{0:0-0:0, 0:0-0:0...|      1|   29.9991154|   -90.0607732|     Anytime Fitness|      70122|           6|  3.0|   LA|\n",
      "|5413 Neshaminy Blvd|{null, null, u'no...|p184f-Zvf4ToPwLba...|Chinese, Restaura...|           Bensalem|{11:30-23:0, null...|      0|   40.1447023|    -74.934106|         Misto Diner|      19020|          26|  3.5|   PA|\n",
      "|     222R US Hwy 13|{null, null, null...|cl5NjtALgaX7E-WL2...|Food, Wholesalers...|            Bristol|{10:0-18:0, 10:0-...|      1|    40.100524|    -74.865196|Liberty City Roas...|      19007|           8|  4.5|   PA|\n",
      "|    2021 Zumbehl Rd|{null, null, 'ful...|Q-a-DzqRufrPL6EcU...|Beer, Wine & Spir...|      Saint Charles|{6:0-20:0, 0:0-0:...|      1|38.7825309858|-90.5346399689|   Dierbergs Markets|      63303|          23|  3.5|   MO|\n",
      "|      1251 River Rd|{null, null, u'no...|isbeaPln-E0DdffLR...|Specialty Food, M...|Washington Crossing|{17:0-22:0, null,...|      1|   40.3136566|   -74.8957796|Francisco's On Th...|      18977|         109|  4.0|   PA|\n",
      "+-------------------+--------------------+--------------------+--------------------+-------------------+--------------------+-------+-------------+--------------+--------------------+-----------+------------+-----+-----+\n",
      "only showing top 5 rows\n",
      "\n"
     ]
    }
   ],
   "source": [
    "business.show(5)"
   ]
  },
  {
   "cell_type": "code",
   "execution_count": 5,
   "metadata": {},
   "outputs": [
    {
     "name": "stdout",
     "output_type": "stream",
     "text": [
      "+-------+----------+-----------+----------+----+-----+-------+--------+---------+----+-----------+------------+-----+-----+\n",
      "|address|attributes|business_id|categories|city|hours|is_open|latitude|longitude|name|postal_code|review_count|stars|state|\n",
      "+-------+----------+-----------+----------+----+-----+-------+--------+---------+----+-----------+------------+-----+-----+\n",
      "|      0|       170|          0|         2|   0|  250|      0|       0|        0|   0|          0|           0|    0|    0|\n",
      "+-------+----------+-----------+----------+----+-----+-------+--------+---------+----+-----------+------------+-----+-----+\n",
      "\n"
     ]
    }
   ],
   "source": [
    "from pyspark.sql.functions import isnan, when, count\n",
    "business.select([count(when(business[c].isNull(), c)).alias(c) for c in business.columns]).show()"
   ]
  },
  {
   "cell_type": "code",
   "execution_count": 6,
   "metadata": {},
   "outputs": [
    {
     "data": {
      "text/plain": [
       "1617"
      ]
     },
     "execution_count": 6,
     "metadata": {},
     "output_type": "execute_result"
    }
   ],
   "source": [
    "# 1. How many unique business?\n",
    "business.select('business_id').distinct().count()"
   ]
  },
  {
   "cell_type": "code",
   "execution_count": 7,
   "metadata": {},
   "outputs": [
    {
     "name": "stdout",
     "output_type": "stream",
     "text": [
      "+-----------------------------------------------------------------------------------------------------------------------+\n",
      "|categories                                                                                                             |\n",
      "+-----------------------------------------------------------------------------------------------------------------------+\n",
      "|African, American (Traditional), Restaurants                                                                           |\n",
      "|Cosmetics & Beauty Supply, Nail Salons, Shopping, Beauty & Spas                                                        |\n",
      "|Parks, Active Life                                                                                                     |\n",
      "|Obstetricians & Gynecologists, Health & Medical, Doctors                                                               |\n",
      "|Shopping, Food, Drugstores, Pharmacy, Health & Medical, Convenience Stores                                             |\n",
      "|Food, Ice Cream & Frozen Yogurt                                                                                        |\n",
      "|Active Life, Parks                                                                                                     |\n",
      "|Restaurants, Pizza                                                                                                     |\n",
      "|Bagels, Restaurants, Food                                                                                              |\n",
      "|Homeowner Association, Home Services, Real Estate, Arts & Entertainment, Social Clubs                                  |\n",
      "|Tacos, New Mexican Cuisine, Restaurants, Mexican, Japanese, Ramen                                                      |\n",
      "|Smog Check Stations, Automotive, Auto Repair, Oil Change Stations                                                      |\n",
      "|Septic Services, Air Duct Cleaning, Water Heater Installation/Repair, Home Services, Plumbing, Local Services          |\n",
      "|Doctors, Health & Medical                                                                                              |\n",
      "|Shopping, Cosmetics & Beauty Supply, Food, Convenience Stores, Beauty & Spas, Photography Stores & Services, Drugstores|\n",
      "|Beauty & Spas, Hair Stylists, Hair Salons, Men's Hair Salons, Barbers                                                  |\n",
      "|Restaurants, Delis, Sandwiches, Fast Food                                                                              |\n",
      "|Pets, Pet Adoption, Animal Shelters, Pet Stores                                                                        |\n",
      "|Car Wash, Automotive                                                                                                   |\n",
      "|Pest Control, Local Services, Home Inspectors, Home Services                                                           |\n",
      "+-----------------------------------------------------------------------------------------------------------------------+\n",
      "only showing top 20 rows\n",
      "\n"
     ]
    }
   ],
   "source": [
    "# 2. What are the top 10 categories?\n",
    "business.select('categories').distinct().show(truncate = False)"
   ]
  },
  {
   "cell_type": "code",
   "execution_count": 8,
   "metadata": {},
   "outputs": [],
   "source": [
    "from pyspark.sql.functions import explode, split\n",
    "business = business.withColumn('categories_split', explode(split('categories', ', ')))"
   ]
  },
  {
   "cell_type": "code",
   "execution_count": 9,
   "metadata": {},
   "outputs": [],
   "source": [
    "df1 = business.groupby('categories_split').count().orderBy('count', ascending = [0])"
   ]
  },
  {
   "cell_type": "code",
   "execution_count": 10,
   "metadata": {},
   "outputs": [
    {
     "name": "stdout",
     "output_type": "stream",
     "text": [
      "+----------------+-----+\n",
      "|categories_split|count|\n",
      "+----------------+-----+\n",
      "|Restaurants     |589  |\n",
      "|Food            |303  |\n",
      "|Shopping        |264  |\n",
      "|Beauty & Spas   |154  |\n",
      "|Home Services   |145  |\n",
      "|Health & Medical|132  |\n",
      "|Automotive      |129  |\n",
      "|Nightlife       |124  |\n",
      "|Bars            |113  |\n",
      "|Local Services  |111  |\n",
      "+----------------+-----+\n",
      "only showing top 10 rows\n",
      "\n"
     ]
    }
   ],
   "source": [
    "df1.show(10, truncate = False)"
   ]
  },
  {
   "cell_type": "code",
   "execution_count": 11,
   "metadata": {},
   "outputs": [
    {
     "data": {
      "text/html": [
       "<div>\n",
       "<style scoped>\n",
       "    .dataframe tbody tr th:only-of-type {\n",
       "        vertical-align: middle;\n",
       "    }\n",
       "\n",
       "    .dataframe tbody tr th {\n",
       "        vertical-align: top;\n",
       "    }\n",
       "\n",
       "    .dataframe thead th {\n",
       "        text-align: right;\n",
       "    }\n",
       "</style>\n",
       "<table border=\"1\" class=\"dataframe\">\n",
       "  <thead>\n",
       "    <tr style=\"text-align: right;\">\n",
       "      <th></th>\n",
       "      <th>categories_split</th>\n",
       "      <th>count</th>\n",
       "    </tr>\n",
       "  </thead>\n",
       "  <tbody>\n",
       "    <tr>\n",
       "      <th>0</th>\n",
       "      <td>Restaurants</td>\n",
       "      <td>589</td>\n",
       "    </tr>\n",
       "    <tr>\n",
       "      <th>1</th>\n",
       "      <td>Food</td>\n",
       "      <td>303</td>\n",
       "    </tr>\n",
       "    <tr>\n",
       "      <th>2</th>\n",
       "      <td>Shopping</td>\n",
       "      <td>264</td>\n",
       "    </tr>\n",
       "    <tr>\n",
       "      <th>3</th>\n",
       "      <td>Beauty &amp; Spas</td>\n",
       "      <td>154</td>\n",
       "    </tr>\n",
       "    <tr>\n",
       "      <th>4</th>\n",
       "      <td>Home Services</td>\n",
       "      <td>145</td>\n",
       "    </tr>\n",
       "  </tbody>\n",
       "</table>\n",
       "</div>"
      ],
      "text/plain": [
       "  categories_split  count\n",
       "0      Restaurants    589\n",
       "1             Food    303\n",
       "2         Shopping    264\n",
       "3    Beauty & Spas    154\n",
       "4    Home Services    145"
      ]
     },
     "execution_count": 11,
     "metadata": {},
     "output_type": "execute_result"
    }
   ],
   "source": [
    "pdf1 = df1.toPandas()\n",
    "pdf1.head()"
   ]
  },
  {
   "cell_type": "code",
   "execution_count": 12,
   "metadata": {},
   "outputs": [
    {
     "data": {
      "image/png": "[encoded data removed]",
      "text/plain": [
       "<Figure size 1000x600 with 1 Axes>"
      ]
     },
     "metadata": {},
     "output_type": "display_data"
    }
   ],
   "source": [
    "top_10_categories = pdf1.head(10)\n",
    "\n",
    "plt.figure(figsize=(10, 6))\n",
    "plt.barh(top_10_categories['categories_split'], top_10_categories['count'], color='skyblue')\n",
    "plt.xlabel('Count')\n",
    "plt.ylabel('Categories')\n",
    "plt.title('Top 10 Categories Count')\n",
    "plt.gca().invert_yaxis()  \n",
    "plt.tight_layout()\n",
    "\n",
    "# Display the plot\n",
    "plt.show()"
   ]
  },
  {
   "cell_type": "code",
   "execution_count": 13,
   "metadata": {},
   "outputs": [],
   "source": [
    "# 3. Business Location"
   ]
  },
  {
   "cell_type": "code",
   "execution_count": 14,
   "metadata": {},
   "outputs": [],
   "source": [
    "df2 = business.groupby('state').count().orderBy('count', ascending =[0])"
   ]
  },
  {
   "cell_type": "code",
   "execution_count": 15,
   "metadata": {},
   "outputs": [
    {
     "name": "stdout",
     "output_type": "stream",
     "text": [
      "+-----+-----+\n",
      "|state|count|\n",
      "+-----+-----+\n",
      "|   PA| 1715|\n",
      "|   FL| 1310|\n",
      "|   MO|  591|\n",
      "|   TN|  563|\n",
      "|   IN|  495|\n",
      "|   AZ|  468|\n",
      "|   LA|  454|\n",
      "|   NJ|  425|\n",
      "|   NV|  330|\n",
      "|   CA|  243|\n",
      "|   ID|  217|\n",
      "|   AB|  188|\n",
      "|   IL|  109|\n",
      "|   DE|   77|\n",
      "|   WA|    2|\n",
      "+-----+-----+\n",
      "\n"
     ]
    }
   ],
   "source": [
    "df2.show()"
   ]
  },
  {
   "cell_type": "code",
   "execution_count": 16,
   "metadata": {},
   "outputs": [
    {
     "data": {
      "text/html": [
       "<div>\n",
       "<style scoped>\n",
       "    .dataframe tbody tr th:only-of-type {\n",
       "        vertical-align: middle;\n",
       "    }\n",
       "\n",
       "    .dataframe tbody tr th {\n",
       "        vertical-align: top;\n",
       "    }\n",
       "\n",
       "    .dataframe thead th {\n",
       "        text-align: right;\n",
       "    }\n",
       "</style>\n",
       "<table border=\"1\" class=\"dataframe\">\n",
       "  <thead>\n",
       "    <tr style=\"text-align: right;\">\n",
       "      <th></th>\n",
       "      <th>state</th>\n",
       "      <th>count</th>\n",
       "    </tr>\n",
       "  </thead>\n",
       "  <tbody>\n",
       "    <tr>\n",
       "      <th>0</th>\n",
       "      <td>PA</td>\n",
       "      <td>1715</td>\n",
       "    </tr>\n",
       "    <tr>\n",
       "      <th>1</th>\n",
       "      <td>FL</td>\n",
       "      <td>1310</td>\n",
       "    </tr>\n",
       "    <tr>\n",
       "      <th>2</th>\n",
       "      <td>MO</td>\n",
       "      <td>591</td>\n",
       "    </tr>\n",
       "    <tr>\n",
       "      <th>3</th>\n",
       "      <td>TN</td>\n",
       "      <td>563</td>\n",
       "    </tr>\n",
       "    <tr>\n",
       "      <th>4</th>\n",
       "      <td>IN</td>\n",
       "      <td>495</td>\n",
       "    </tr>\n",
       "  </tbody>\n",
       "</table>\n",
       "</div>"
      ],
      "text/plain": [
       "  state  count\n",
       "0    PA   1715\n",
       "1    FL   1310\n",
       "2    MO    591\n",
       "3    TN    563\n",
       "4    IN    495"
      ]
     },
     "execution_count": 16,
     "metadata": {},
     "output_type": "execute_result"
    }
   ],
   "source": [
    "pdf2 = df2.toPandas()\n",
    "pdf2.head()"
   ]
  },
  {
   "cell_type": "code",
   "execution_count": 17,
   "metadata": {},
   "outputs": [
    {
     "name": "stderr",
     "output_type": "stream",
     "text": [
      "ERROR 1: PROJ: proj_create_from_database: Open of /opt/conda/miniconda3/share/proj failed\n"
     ]
    },
    {
     "data": {
      "image/png": "[encoded data removed]",
      "text/plain": [
       "<Figure size 1500x1000 with 2 Axes>"
      ]
     },
     "metadata": {},
     "output_type": "display_data"
    }
   ],
   "source": [
    "import geopandas as gpd\n",
    "import pandas as pd\n",
    "import matplotlib.pyplot as plt\n",
    "\n",
    "# Load the US states GeoJSON file\n",
    "us_states = gpd.read_file('https://raw.githubusercontent.com/plotly/datasets/master/geojson-counties-fips.json')\n",
    "\n",
    "# Your DataFrame\n",
    "data = {\n",
    "    'state': ['PA', 'FL', 'MO', 'TN', 'IN', 'AZ', 'LA', 'NJ', 'NV', 'CA', 'ID', 'AB', 'IL', 'DE', 'WA'],\n",
    "    'count': [1715, 1310, 591, 563, 495, 468, 454, 425, 330, 243, 217, 188, 109, 77, 2]\n",
    "}\n",
    "pdf2 = pd.DataFrame(data)\n",
    "\n",
    "# Merge with the GeoDataFrame\n",
    "merged = us_states.merge(pdf2, left_on='id', right_on='state', how='left')\n",
    "\n",
    "# Create a figure and axis\n",
    "fig, ax = plt.subplots(1, 1, figsize=(15, 10))\n",
    "\n",
    "# Plot the map\n",
    "merged.plot(column='count', cmap='YlOrRd', linewidth=0.8, ax=ax, edgecolor='0.8', legend=True)\n",
    "\n",
    "# Add a title\n",
    "plt.title('Business Distribution by State')\n",
    "\n",
    "# Remove the axis\n",
    "ax.set_axis_off()\n",
    "\n",
    "# Show the plot\n",
    "plt.show()\n"
   ]
  },
  {
   "cell_type": "code",
   "execution_count": 18,
   "metadata": {},
   "outputs": [],
   "source": [
    "#pip install plotly-express"
   ]
  },
  {
   "cell_type": "code",
   "execution_count": null,
   "metadata": {},
   "outputs": [],
   "source": [
    "import plotly.express as px\n",
    "\n",
    "data = {\n",
    "    'state': ['AL', 'AK', 'AZ', 'AR', 'CA', 'CO', 'CT', 'DE', 'FL', 'GA', 'HI', 'ID', 'IL', 'IN', 'IA', 'KS', 'KY', 'LA', 'ME', 'MD', 'MA', 'MI', 'MN', 'MS', 'MO', 'MT', 'NE', 'NV', 'NH', 'NJ', 'NM', 'NY', 'NC', 'ND', 'OH', 'OK', 'OR', 'PA', 'RI', 'SC', 'SD', 'TN', 'TX', 'UT', 'VT', 'VA', 'WA', 'WV', 'WI', 'WY'],\n",
    "    'count': [0] * 50  # You can update this count with your desired values\n",
    "}\n",
    "\n",
    "pdf2 = pd.DataFrame(data)\n",
    "\n",
    "fig = px.choropleth(pdf2,\n",
    "                    locations= 'state', \n",
    "                    locationmode=\"USA-states\", \n",
    "                    scope=\"usa\",\n",
    "                    color='count',\n",
    "                    color_continuous_scale=\"Viridis_r\")\n",
    "fig.show()"
   ]
  },
  {
   "cell_type": "code",
   "execution_count": null,
   "metadata": {},
   "outputs": [],
   "source": []
  },
  {
   "cell_type": "code",
   "execution_count": null,
   "metadata": {},
   "outputs": [],
   "source": []
  },
  {
   "cell_type": "code",
   "execution_count": 1,
   "metadata": {},
   "outputs": [
    {
     "ename": "NameError",
     "evalue": "name 'checkin' is not defined",
     "output_type": "error",
     "traceback": [
      "\u001b[0;31m---------------------------------------------------------------------------\u001b[0m",
      "\u001b[0;31mNameError\u001b[0m                                 Traceback (most recent call last)",
      "Cell \u001b[0;32mIn[1], line 1\u001b[0m\n\u001b[0;32m----> 1\u001b[0m \u001b[43mcheckin\u001b[49m\u001b[38;5;241m.\u001b[39mshow()\n",
      "\u001b[0;31mNameError\u001b[0m: name 'checkin' is not defined"
     ]
    }
   ],
   "source": [
    "checkin.show()"
   ]
  },
  {
   "cell_type": "code",
   "execution_count": 22,
   "metadata": {},
   "outputs": [
    {
     "name": "stdout",
     "output_type": "stream",
     "text": [
      "+--------------------+----+-------------------+-----+--------------------+-----+--------------------+------+--------------------+\n",
      "|         business_id|cool|               date|funny|           review_id|stars|                text|useful|             user_id|\n",
      "+--------------------+----+-------------------+-----+--------------------+-----+--------------------+------+--------------------+\n",
      "|arKiXax3ScSM_z3O-...|   0|2010-10-17 01:50:46|    0|zCNdcNrkIKefTPbak...|  5.0|Great Italian foo...|     0|bz2FrqfKrVmS7WwC-...|\n",
      "|aeFXIzYpWjSdtq5w8...|   3|2013-06-29 13:42:57|    0|aweHR8S6QAEuV4hoH...|  3.0|I have heard many...|     4|CAU7F-vDqbQZ67BBY...|\n",
      "|rAytSQU5RQHvXe1Wl...|   1|2021-02-03 21:32:58|    0|CefnkUvmbiDsexuxz...|  5.0|I wish this locat...|     2|BHcPaG4X220bQsqOR...|\n",
      "|uFLqtC7Yq03dDrxU0...|   2|2013-02-09 13:23:26|    2|geSJqq4MUPos2l8ZI...|  4.0|Why I like Smooth...|     7|DAeC-Y66n-jNMJJw4...|\n",
      "|3u1cP7H4g325tkhNE...|   0|2021-01-02 17:01:16|    0|P0gEHckZurgPi7_7f...|  5.0|I rarely go to a ...|     1|9ZBWFsAUSzQx6sDRb...|\n",
      "|VdKldEVb7pZwttJ_u...|   0|2018-03-18 23:28:50|    1|TAb8lMv-6AB5S19Gz...|  3.0|Extremely unprofe...|     0|lbMdyNohtQ6kud553...|\n",
      "|XY-KC1WjJznzlqbvY...|   0|2021-04-24 22:45:01|    0|CB7h06AQ-ALFegZ3L...|  1.0|I'm not one to le...|     0|IZIFIA6EqN6Wyno2S...|\n",
      "|oIH5YWPy_g61YXM6R...|   0|2021-06-28 19:37:27|    0|08UAs6RHvFpl5iB2p...|  5.0|Great food and se...|     0|m_oqpajE_spmPMMFf...|\n",
      "|-w3QfCAsyxnZxOWhO...|   0|2021-05-28 12:11:54|    0|bs9UsQp8R8e9-xU7f...|  5.0|Would like to tha...|     1|l5sqrUmvyFsA0oOls...|\n",
      "|yktnwboMIQZkOvcZy...|   0|2020-10-17 21:22:30|    0|RfJNIyAuHNBVEhz0R...|  5.0|Great food and se...|     0|pn4XpHlPwMu-SRQL_...|\n",
      "|wnb1YXXb39dOtEJ7O...|   0|2019-02-21 18:16:43|    0|yVhs3Y2LCOOXUh6Cw...|  5.0|Scott patched, sa...|     0|84F_rnnqHz5S3YGF2...|\n",
      "|I_3LMZ_1m2mzR0oLI...|   1|2021-01-26 16:03:44|    0|66kZQu-2GYMRRinZz...|  5.0|Yum! We were driv...|     1|U51xnAruqS2vRNPme...|\n",
      "|ao_CiBbTA0QHAI16-...|   0|2021-03-18 21:32:50|    0|hx8V6X4nBHXpJkaqB...|  4.0|The special fried...|     0|_YiVszrcrFb7tafoc...|\n",
      "|_bXtF8hXJgEcUMQIO...|   0|2016-03-04 16:48:29|    0|j4Q2NoS7G51BFKiyi...|  4.0|Clean, well lit s...|     0|4CeyT1ZYo1vmSyEGf...|\n",
      "|BlMzYZBnlxL7rPn0X...|   0|2021-08-25 21:52:29|    0|E0kPbxJVpk4cK0cwB...|  2.0|This has been our...|     0|LqHxsYPcMKkSEVwt-...|\n",
      "|fJb98kTGBuTzxP8x9...|   1|2021-08-06 18:39:54|    0|_XQnTw10I5Nlp3mRD...|  5.0|Flakiest croissan...|     1|8Qdtylig-3jC3XvpN...|\n",
      "|E03HQDIBBR1UHVd0B...|   0|2020-06-04 17:25:44|    0|Vnfrt7BhWVwBH4Zjq...|  5.0|The experience at...|     0|V8dN1Nvj8bKJ2GL8C...|\n",
      "|4lI_Q-9ya6rxsDnkz...|   0|2017-10-30 15:06:53|    0|Sj0IgbV87cz_-hirX...|  5.0|If you are lookin...|     0|FGqD0_GltiROPEKmi...|\n",
      "|glqhlr3vcINNstyYR...|   0|2021-06-27 18:29:58|    0|rWoSkz3abTiXyHHJH...|  5.0|Love their beer. ...|     1|-XiWHR5QT5AoiSr3q...|\n",
      "|M8vKFvhRr_O31F5R9...|   0|2021-06-01 07:05:33|    0|AS6rGBuodM_77eaZT...|  5.0|Go hungry, be pre...|     2|CVrohMdcOUQ1ZDc4g...|\n",
      "+--------------------+----+-------------------+-----+--------------------+-----+--------------------+------+--------------------+\n",
      "only showing top 20 rows\n",
      "\n"
     ]
    }
   ],
   "source": [
    "review.show()"
   ]
  },
  {
   "cell_type": "code",
   "execution_count": 23,
   "metadata": {},
   "outputs": [
    {
     "name": "stdout",
     "output_type": "stream",
     "text": [
      "+--------------------+----------------+-------------------+--------------------+--------------------+\n",
      "|         business_id|compliment_count|               date|                text|             user_id|\n",
      "+--------------------+----------------+-------------------+--------------------+--------------------+\n",
      "|-ib2qJmDKJgH_ZbtS...|               0|2017-01-08 03:26:27|My favorite pizza...|mxKNFsLCMSSFanV0o...|\n",
      "|rTXNiH-RROF1OQHVI...|               0|2013-06-23 17:18:01|Everything is gre...|4af7IWHRc890BUKcA...|\n",
      "|1Z9y1CQj1BZjdFJGu...|               0|2014-01-10 23:51:00|Having a good tim...|-iC2-qwz19U7Xr4af...|\n",
      "|qUSrh_Zya0O1sRffR...|               0|2012-04-28 01:07:40|        Soccer party|wAgg_B9OQzL8_UF8o...|\n",
      "|jziRKhtHxeJPAPWS2...|               0|2010-08-22 01:22:08|Sit at the Bar......|Ye-9S8f2dt41UBfy4...|\n",
      "+--------------------+----------------+-------------------+--------------------+--------------------+\n",
      "only showing top 5 rows\n",
      "\n"
     ]
    }
   ],
   "source": [
    "tip.show(5)"
   ]
  },
  {
   "cell_type": "code",
   "execution_count": 24,
   "metadata": {},
   "outputs": [
    {
     "name": "stdout",
     "output_type": "stream",
     "text": [
      "+-------------+---------------+---------------+----------------+--------------+---------------+---------------+---------------+-----------------+----------------+------------------+-----------------+----+-----+----+-------+-----+--------+------------+------+--------------------+-------------------+\n",
      "|average_stars|compliment_cool|compliment_cute|compliment_funny|compliment_hot|compliment_list|compliment_more|compliment_note|compliment_photos|compliment_plain|compliment_profile|compliment_writer|cool|elite|fans|friends|funny|    name|review_count|useful|             user_id|      yelping_since|\n",
      "+-------------+---------------+---------------+----------------+--------------+---------------+---------------+---------------+-----------------+----------------+------------------+-----------------+----+-----+----+-------+-----+--------+------------+------+--------------------+-------------------+\n",
      "|          4.5|              0|              0|               0|             0|              0|              0|              0|                0|               0|                 0|                0|   1|     |   0|   None|    1|  Thomas|           2|     2|DQ-2d41j1kJ4Wyf8Z...|2015-07-28 02:50:14|\n",
      "|         3.63|              0|              0|               0|             0|              0|              0|              0|                0|               0|                 0|                0|   0|     |   0|   None|    0|     Rob|           8|     2|FX3rCFA1YA0J9UBno...|2013-09-22 02:16:32|\n",
      "|          3.0|              0|              0|               0|             0|              0|              0|              0|                0|               0|                 0|                0|   1|     |   0|   None|    0| Kristin|           4|     1|wcYcwKsd2J1kZ9Tah...|2016-03-23 20:53:23|\n",
      "|         4.57|              0|              0|               0|             0|              0|              0|              0|                0|               0|                 0|                0|   0|     |   0|   None|    0|    John|           7|     3|aPH-KIrfY4Oia-oQI...|2016-03-23 13:30:00|\n",
      "|          1.0|              0|              0|               0|             0|              0|              0|              0|                0|               0|                 0|                0|   0|     |   0|   None|    0|    Tony|           2|     1|5YPYmFe9-ncOt8ZR5...|2021-09-01 18:10:19|\n",
      "|          5.0|              0|              0|               0|             0|              0|              0|              0|                0|               0|                 0|                0|   0|     |   0|   None|    0|  Lauren|           2|     0|ZAv_oure8BbhxTyE-...|2014-03-09 19:21:06|\n",
      "|         3.83|              0|              0|               0|             0|              0|              0|              0|                0|               0|                 0|                0|   1|     |   0|   None|    0|  Ashley|          16|    18|K5ej6ahcpwFdDCnZJ...|2013-11-14 20:01:27|\n",
      "|          5.0|              0|              0|               0|             0|              0|              0|              0|                0|               0|                 0|                0|   0|     |   0|   None|    0|  Ashley|           1|     1|0oOgCuICBh4TT_w9u...|2014-12-01 00:16:57|\n",
      "|         2.33|              0|              0|               0|             0|              0|              0|              0|                0|               2|                 0|                0|   0|     |   0|   None|    0|    Brit|           3|     6|2jVfGEeB5GdHzkbVa...|2015-09-07 01:54:46|\n",
      "|         4.21|              0|              0|               0|             0|              0|              0|              0|                0|               0|                 0|                0|   7|     |   0|   None|    5|  Stacey|          14|    25|D1Undrz8hDkqnNY63...|2007-09-15 04:19:33|\n",
      "|          3.0|              0|              0|               0|             0|              0|              0|              0|                0|               0|                 0|                0|   0|     |   0|   None|    0|    Hank|           2|     0|fm2bgbul8D8_6k--K...|2020-01-26 21:20:04|\n",
      "|          3.0|              0|              0|               0|             0|              0|              0|              0|                0|               0|                 0|                0|   0|     |   0|   None|    0|Jennifer|           2|     1|N-S20Y0XVpwP93Hh5...|2013-12-02 19:02:53|\n",
      "|         3.85|              0|              0|               0|             0|              0|              0|              0|                0|               1|                 0|                0|   3|     |   0|   None|    1|       S|          13|    13|37pRVOjl0sXMGH-hk...|2013-02-23 01:33:44|\n",
      "|          4.0|              0|              0|               0|             0|              0|              0|              0|                0|               0|                 0|                0|   0|     |   0|   None|    0|   Harry|           2|     0|MLLlOBS4WWpYIImrl...|2016-09-26 20:26:29|\n",
      "|         1.88|              0|              0|               0|             0|              0|              0|              0|                0|               0|                 0|                0|   2|     |   0|   None|    0|      It|           8|     1|iqR7FpZ0MhceL-plR...|2017-03-03 12:07:53|\n",
      "|          5.0|              0|              0|               0|             0|              0|              0|              0|                0|               0|                 0|                0|   0|     |   0|   None|    0|    Anna|           1|     0|U2BDCdR3zoiftzo_b...|2016-04-06 00:59:52|\n",
      "|          5.0|              0|              0|               0|             0|              0|              0|              0|                0|               0|                 0|                0|   1|     |   0|   None|    1|   Tawni|           1|     1|P8rY_R2S_A1W3ZYPo...|2015-03-01 21:21:35|\n",
      "|         3.95|              0|              0|               0|             0|              0|              0|              0|                0|               0|                 0|                0|   2|     |   0|   None|    3|    Joey|          21|    10|3_NxHHhQiS8n486XJ...|2017-07-27 12:54:33|\n",
      "|          3.0|              0|              0|               0|             0|              0|              0|              0|                0|               0|                 0|                0|   0|     |   0|   None|    1|      DJ|           1|     0|NGMSpIjv-EaLBgTIz...|2019-03-28 14:58:25|\n",
      "|          3.0|              0|              0|               0|             0|              0|              0|              0|                0|               0|                 0|                0|   0|     |   0|   None|    0|     Maw|           1|     0|FZ1JR47ZBdY-sLp9i...|2019-05-07 04:12:40|\n",
      "+-------------+---------------+---------------+----------------+--------------+---------------+---------------+---------------+-----------------+----------------+------------------+-----------------+----+-----+----+-------+-----+--------+------------+------+--------------------+-------------------+\n",
      "only showing top 20 rows\n",
      "\n"
     ]
    }
   ],
   "source": [
    "user.show()"
   ]
  },
  {
   "cell_type": "code",
   "execution_count": null,
   "metadata": {},
   "outputs": [],
   "source": []
  },
  {
   "cell_type": "code",
   "execution_count": null,
   "metadata": {},
   "outputs": [],
   "source": []
  }
 ],
 "metadata": {
  "kernelspec": {
   "display_name": "PySpark",
   "language": "python",
   "name": "pyspark"
  },
  "language_info": {
   "codemirror_mode": {
    "name": "ipython",
    "version": 3
   },
   "file_extension": ".py",
   "mimetype": "text/x-python",
   "name": "python",
   "nbconvert_exporter": "python",
   "pygments_lexer": "ipython3",
   "version": "3.8.15"
  }
 },
 "nbformat": 4,
 "nbformat_minor": 4
}
