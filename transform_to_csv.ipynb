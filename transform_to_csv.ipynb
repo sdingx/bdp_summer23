{
 "cells": [
  {
   "cell_type": "code",
   "execution_count": 1,
   "id": "cbe4f2cc-f511-4692-bdc2-4fdb0046ecad",
   "metadata": {},
   "outputs": [],
   "source": [
    "# package imports\n",
    "#basics\n",
    "import numpy as np\n",
    "import pandas as pd\n",
    "import json\n",
    "import csv\n",
    "from google.cloud import storage\n",
    "storage_client = storage.Client()\n",
    "\n",
    "\n",
    "#misc\n",
    "import gc\n",
    "import time\n",
    "import warnings\n",
    "\n",
    "\n",
    "#viz\n",
    "import matplotlib.pyplot as plt\n",
    "import seaborn as sns "
   ]
  },
  {
   "cell_type": "code",
   "execution_count": null,
   "id": "46fb0dac-3218-41f8-8e68-825ec168cdc1",
   "metadata": {},
   "outputs": [],
   "source": [
    "bucket = storage_client.bucket('msca-bdp-student-gcs')\n",
    "\n",
    "\n",
    "\n",
    "def get_json(filename):\n",
    "    '''\n",
    "    this function will get the json object from\n",
    "    google cloud storage bucket\n",
    "    '''\n",
    "    # get the blob\n",
    "    filepath = 'group2/archive-3/'\n",
    "    blob = bucket.get_blob(filepath+filename)\n",
    "    # Download the blob as bytes\n",
    "    file_data = blob.download_as_bytes()\n",
    "\n",
    "    # Decode the bytes object into a string\n",
    "    file_data_str = file_data.decode('utf-8')\n",
    "\n",
    "    # Parse each line as a separate JSON object\n",
    "    json_data = []\n",
    "    for line in file_data_str.splitlines():\n",
    "        json_object = json.loads(line)\n",
    "        json_data.append(json_object)\n",
    "    return json_data\n",
    "\n",
    "test = get_json('yelp_academic_dataset_user.json')\n"
   ]
  },
  {
   "cell_type": "code",
   "execution_count": null,
   "id": "04b0385c-4d78-41b5-92c0-39899a6eef8a",
   "metadata": {},
   "outputs": [],
   "source": [
    "filenames = [ 'yelp_academic_dataset_review.json',\n",
    "            'yelp_academic_dataset_user.json']"
   ]
  },
  {
   "cell_type": "code",
   "execution_count": null,
   "id": "f004676c-4b89-4ac2-aa4e-c5551ba2bd0a",
   "metadata": {},
   "outputs": [],
   "source": [
    "type(test)"
   ]
  },
  {
   "cell_type": "code",
   "execution_count": 17,
   "id": "dedacf48-9fb4-4bd5-bc4f-c4e697c9f707",
   "metadata": {},
   "outputs": [
    {
     "data": {
      "text/plain": [
       "908915"
      ]
     },
     "execution_count": 17,
     "metadata": {},
     "output_type": "execute_result"
    }
   ],
   "source": [
    "len(test)"
   ]
  },
  {
   "cell_type": "code",
   "execution_count": 18,
   "id": "6619980a-6c46-4b9f-ba3f-277cf81aeae1",
   "metadata": {},
   "outputs": [],
   "source": [
    "test_df = pd.DataFrame(test)"
   ]
  },
  {
   "cell_type": "code",
   "execution_count": 19,
   "id": "c3384e49-a343-4788-891d-967a1cabc3b1",
   "metadata": {},
   "outputs": [
    {
     "data": {
      "text/plain": [
       "(908915, 5)"
      ]
     },
     "execution_count": 19,
     "metadata": {},
     "output_type": "execute_result"
    }
   ],
   "source": [
    "test_df.shape"
   ]
  },
  {
   "cell_type": "code",
   "execution_count": 21,
   "id": "190ca4f1-5459-4922-8ec3-8e9a586e412e",
   "metadata": {},
   "outputs": [],
   "source": [
    "# test_df.to_csv('gs://msca-bdp-student-gcs/group2/archive-3/yelp_academic_dataset_user.csv')"
   ]
  },
  {
   "cell_type": "code",
   "execution_count": 20,
   "id": "f9ae158d-8b68-49bf-8e22-755e59b748db",
   "metadata": {},
   "outputs": [
    {
     "data": {
      "text/html": [
       "<div>\n",
       "<style scoped>\n",
       "    .dataframe tbody tr th:only-of-type {\n",
       "        vertical-align: middle;\n",
       "    }\n",
       "\n",
       "    .dataframe tbody tr th {\n",
       "        vertical-align: top;\n",
       "    }\n",
       "\n",
       "    .dataframe thead th {\n",
       "        text-align: right;\n",
       "    }\n",
       "</style>\n",
       "<table border=\"1\" class=\"dataframe\">\n",
       "  <thead>\n",
       "    <tr style=\"text-align: right;\">\n",
       "      <th></th>\n",
       "      <th>user_id</th>\n",
       "      <th>business_id</th>\n",
       "      <th>text</th>\n",
       "      <th>date</th>\n",
       "      <th>compliment_count</th>\n",
       "    </tr>\n",
       "  </thead>\n",
       "  <tbody>\n",
       "    <tr>\n",
       "      <th>0</th>\n",
       "      <td>AGNUgVwnZUey3gcPCJ76iw</td>\n",
       "      <td>3uLgwr0qeCNMjKenHJwPGQ</td>\n",
       "      <td>Avengers time with the ladies.</td>\n",
       "      <td>2012-05-18 02:17:21</td>\n",
       "      <td>0</td>\n",
       "    </tr>\n",
       "    <tr>\n",
       "      <th>1</th>\n",
       "      <td>NBN4MgHP9D3cw--SnauTkA</td>\n",
       "      <td>QoezRbYQncpRqyrLH6Iqjg</td>\n",
       "      <td>They have lots of good deserts and tasty cuban...</td>\n",
       "      <td>2013-02-05 18:35:10</td>\n",
       "      <td>0</td>\n",
       "    </tr>\n",
       "    <tr>\n",
       "      <th>2</th>\n",
       "      <td>-copOvldyKh1qr-vzkDEvw</td>\n",
       "      <td>MYoRNLb5chwjQe3c_k37Gg</td>\n",
       "      <td>It's open even when you think it isn't</td>\n",
       "      <td>2013-08-18 00:56:08</td>\n",
       "      <td>0</td>\n",
       "    </tr>\n",
       "  </tbody>\n",
       "</table>\n",
       "</div>"
      ],
      "text/plain": [
       "                  user_id             business_id  \\\n",
       "0  AGNUgVwnZUey3gcPCJ76iw  3uLgwr0qeCNMjKenHJwPGQ   \n",
       "1  NBN4MgHP9D3cw--SnauTkA  QoezRbYQncpRqyrLH6Iqjg   \n",
       "2  -copOvldyKh1qr-vzkDEvw  MYoRNLb5chwjQe3c_k37Gg   \n",
       "\n",
       "                                                text                 date  \\\n",
       "0                     Avengers time with the ladies.  2012-05-18 02:17:21   \n",
       "1  They have lots of good deserts and tasty cuban...  2013-02-05 18:35:10   \n",
       "2             It's open even when you think it isn't  2013-08-18 00:56:08   \n",
       "\n",
       "   compliment_count  \n",
       "0                 0  \n",
       "1                 0  \n",
       "2                 0  "
      ]
     },
     "execution_count": 20,
     "metadata": {},
     "output_type": "execute_result"
    }
   ],
   "source": [
    "test_df.head(3)"
   ]
  },
  {
   "cell_type": "code",
   "execution_count": 3,
   "id": "1ce633ac-e9f7-4756-a5e8-7ad86d795275",
   "metadata": {},
   "outputs": [
    {
     "data": {
      "text/plain": [
       "True"
      ]
     },
     "execution_count": 3,
     "metadata": {},
     "output_type": "execute_result"
    }
   ],
   "source": []
  },
  {
   "cell_type": "code",
   "execution_count": null,
   "id": "e492648e-63bc-4af0-9333-37200af596d8",
   "metadata": {},
   "outputs": [],
   "source": []
  }
 ],
 "metadata": {
  "kernelspec": {
   "display_name": "Python 3",
   "language": "python",
   "name": "python3"
  },
  "language_info": {
   "codemirror_mode": {
    "name": "ipython",
    "version": 3
   },
   "file_extension": ".py",
   "mimetype": "text/x-python",
   "name": "python",
   "nbconvert_exporter": "python",
   "pygments_lexer": "ipython3",
   "version": "3.8.15"
  }
 },
 "nbformat": 4,
 "nbformat_minor": 5
}
