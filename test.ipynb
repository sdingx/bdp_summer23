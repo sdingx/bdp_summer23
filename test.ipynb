{
 "cells": [
  {
   "cell_type": "code",
   "execution_count": 1,
   "id": "cbe4f2cc-f511-4692-bdc2-4fdb0046ecad",
   "metadata": {},
   "outputs": [],
   "source": [
    "#import statements\n",
    "from pyspark.sql import SparkSession\n",
    "from pyspark.sql import functions as F"
   ]
  },
  {
   "cell_type": "markdown",
   "id": "46b683b7-3ab6-4b8c-83e3-ac769175a10f",
   "metadata": {},
   "source": [
    "## Yelp Analysis "
   ]
  },
  {
   "cell_type": "code",
   "execution_count": 2,
   "id": "f9ae158d-8b68-49bf-8e22-755e59b748db",
   "metadata": {},
   "outputs": [],
   "source": [
    "spark = SparkSession.builder.enableHiveSupport().appName('Yelp').getOrCreate()\n",
    "sc = spark.sparkContext"
   ]
  },
  {
   "cell_type": "code",
   "execution_count": 13,
   "id": "1ce633ac-e9f7-4756-a5e8-7ad86d795275",
   "metadata": {},
   "outputs": [
    {
     "name": "stderr",
     "output_type": "stream",
     "text": [
      "                                                                                \r"
     ]
    }
   ],
   "source": [
    "tip = spark.read.csv(\"gs://msca-bdp-student-gcs/group2/archive-3/yelp_academic_dataset_tip.csv\",inferSchema=True, header=True)\n",
    "user = spark.read.json(\"gs://msca-bdp-student-gcs/group2/archive-3/yelp_academic_dataset_user.json\")\n",
    "business = spark.read.csv(\"gs://msca-bdp-student-gcs/group2/archive-3/yelp_academic_dataset_business.json\",inferSchema=True, header=True) \n",
    "checkin = spark.read.csv(\"gs://msca-bdp-student-gcs/group2/archive-3/yelp_academic_dataset_checkin.csv\",inferSchema=True, header=True)\n",
    "review = spark.read.json(\"gs://msca-bdp-student-gcs/group2/archive-3/yelp_academic_dataset_review.json\")"
   ]
  },
  {
   "cell_type": "code",
   "execution_count": 14,
   "id": "b04e0b72-c334-4052-bde4-78834432ce95",
   "metadata": {},
   "outputs": [
    {
     "name": "stderr",
     "output_type": "stream",
     "text": [
      "23/08/03 01:38:45 WARN org.apache.spark.sql.execution.CacheManager: Asked to cache already cached data.\n"
     ]
    },
    {
     "data": {
      "text/plain": [
       "DataFrame[average_stars: double, compliment_cool: bigint, compliment_cute: bigint, compliment_funny: bigint, compliment_hot: bigint, compliment_list: bigint, compliment_more: bigint, compliment_note: bigint, compliment_photos: bigint, compliment_plain: bigint, compliment_profile: bigint, compliment_writer: bigint, cool: bigint, elite: string, fans: bigint, funny: bigint, name: string, review_count: bigint, useful: bigint, user_id: string, yelping_since: string]"
      ]
     },
     "execution_count": 14,
     "metadata": {},
     "output_type": "execute_result"
    }
   ],
   "source": [
    "# friends column shows all userIDs that are friends of a user. \n",
    "# we don't need that and it blocks visibility of other cols.\n",
    "\n",
    "user = user.drop('friends')\n",
    "user.cache()\n"
   ]
  },
  {
   "cell_type": "code",
   "execution_count": 16,
   "id": "7a7c0b8b-5f1a-4df9-9f0c-7fcfe1cf8ea7",
   "metadata": {},
   "outputs": [
    {
     "data": {
      "text/plain": [
       "[Row(business_id='XQfwVwDr-v0ZS3_CbbE5Xw', cool=0, date='2018-07-07 22:09:11', funny=0, review_id='KU_O5udG6zpxOg-VcAEodg', stars=3.0, text=\"If you decide to eat here, just be aware it is going to take about 2 hours from beginning to end. We have tried it multiple times, because I want to like it! I have been to it's other locations in NJ and never had a bad experience. \\n\\nThe food is good, but it takes a very long time to come out. The waitstaff is very young, but usually pleasant. We have just had too many experiences where we spent way too long waiting. We usually opt for another diner or restaurant on the weekends, in order to be done quicker.\", useful=0, user_id='mh_-eMZ6K5RLWhZyISBhwA')]"
      ]
     },
     "execution_count": 16,
     "metadata": {},
     "output_type": "execute_result"
    }
   ],
   "source": [
    "review.take(1)"
   ]
  },
  {
   "cell_type": "code",
   "execution_count": 17,
   "id": "fddcba6a-af94-4202-be66-478ded82a19e",
   "metadata": {},
   "outputs": [
    {
     "data": {
      "text/plain": [
       "[Row(average_stars=3.91, compliment_cool=467, compliment_cute=56, compliment_funny=467, compliment_hot=250, compliment_list=18, compliment_more=65, compliment_note=232, compliment_photos=180, compliment_plain=844, compliment_profile=55, compliment_writer=239, cool=5994, elite='2007', fans=267, funny=1259, name='Walker', review_count=585, useful=7217, user_id='qVc8ODYU5SZjKXVBgXdI7w', yelping_since='2007-01-25 16:47:26')]"
      ]
     },
     "execution_count": 17,
     "metadata": {},
     "output_type": "execute_result"
    }
   ],
   "source": [
    "user.take(1)"
   ]
  },
  {
   "cell_type": "code",
   "execution_count": 7,
   "id": "6ad4a446-b743-45f5-8a8c-52213fd0e5a2",
   "metadata": {},
   "outputs": [
    {
     "name": "stdout",
     "output_type": "stream",
     "text": [
      "root\n",
      " |-- business_id: string (nullable = true)\n",
      " |-- cool: long (nullable = true)\n",
      " |-- date: string (nullable = true)\n",
      " |-- funny: long (nullable = true)\n",
      " |-- review_id: string (nullable = true)\n",
      " |-- stars: double (nullable = true)\n",
      " |-- text: string (nullable = true)\n",
      " |-- useful: long (nullable = true)\n",
      " |-- user_id: string (nullable = true)\n",
      "\n"
     ]
    }
   ],
   "source": [
    "review.printSchema()"
   ]
  },
  {
   "cell_type": "code",
   "execution_count": 8,
   "id": "e735e725-69b2-4697-ac09-05f448e06239",
   "metadata": {},
   "outputs": [
    {
     "name": "stdout",
     "output_type": "stream",
     "text": [
      "root\n",
      " |-- average_stars: double (nullable = true)\n",
      " |-- compliment_cool: long (nullable = true)\n",
      " |-- compliment_cute: long (nullable = true)\n",
      " |-- compliment_funny: long (nullable = true)\n",
      " |-- compliment_hot: long (nullable = true)\n",
      " |-- compliment_list: long (nullable = true)\n",
      " |-- compliment_more: long (nullable = true)\n",
      " |-- compliment_note: long (nullable = true)\n",
      " |-- compliment_photos: long (nullable = true)\n",
      " |-- compliment_plain: long (nullable = true)\n",
      " |-- compliment_profile: long (nullable = true)\n",
      " |-- compliment_writer: long (nullable = true)\n",
      " |-- cool: long (nullable = true)\n",
      " |-- elite: string (nullable = true)\n",
      " |-- fans: long (nullable = true)\n",
      " |-- funny: long (nullable = true)\n",
      " |-- name: string (nullable = true)\n",
      " |-- review_count: long (nullable = true)\n",
      " |-- useful: long (nullable = true)\n",
      " |-- user_id: string (nullable = true)\n",
      " |-- yelping_since: string (nullable = true)\n",
      "\n"
     ]
    }
   ],
   "source": [
    "user.printSchema()"
   ]
  },
  {
   "cell_type": "code",
   "execution_count": 18,
   "id": "eac9209b-0960-4e35-a821-18ba8ef7f0af",
   "metadata": {},
   "outputs": [
    {
     "data": {
      "text/plain": [
       "[Row(_c0='0', user_id='AGNUgVwnZUey3gcPCJ76iw', business_id='3uLgwr0qeCNMjKenHJwPGQ', text='Avengers time with the ladies.', date='2012-05-18 02:17:21', compliment_count='0')]"
      ]
     },
     "execution_count": 18,
     "metadata": {},
     "output_type": "execute_result"
    }
   ],
   "source": [
    "tip.take(1)"
   ]
  },
  {
   "cell_type": "code",
   "execution_count": 19,
   "id": "601f86d7-2ae1-4687-ad69-43c8181c5113",
   "metadata": {},
   "outputs": [
    {
     "data": {
      "text/plain": [
       "[Row(_c0='0', user_id='AGNUgVwnZUey3gcPCJ76iw', business_id='3uLgwr0qeCNMjKenHJwPGQ', text='Avengers time with the ladies.', date='2012-05-18 02:17:21', compliment_count='0')]"
      ]
     },
     "execution_count": 19,
     "metadata": {},
     "output_type": "execute_result"
    }
   ],
   "source": [
    "business.take(1)"
   ]
  },
  {
   "cell_type": "code",
   "execution_count": 21,
   "id": "6ee0d124-1232-4ca2-941d-c0d670e1c611",
   "metadata": {},
   "outputs": [
    {
     "data": {
      "text/plain": [
       "[Row(_c0=0, business_id='---kPU91CF4Lq2-WlRu9Lw', date='2020-03-13 21:10:56, 2020-06-02 22:18:06, 2020-07-24 22:42:27, 2020-10-24 21:36:13, 2020-12-09 21:23:33, 2021-01-20 17:34:57, 2021-04-30 21:02:03, 2021-05-25 21:16:54, 2021-08-06 21:08:08, 2021-10-02 15:15:42, 2021-11-11 16:23:50'),\n",
       " Row(_c0=1, business_id='--0iUa4sNDFiZFrAdIWhZQ', date='2010-09-13 21:43:09, 2011-05-04 23:08:15, 2011-07-18 22:30:31, 2012-09-07 20:28:50, 2013-03-27 15:57:36, 2013-08-13 00:31:34, 2013-08-13 00:31:48, 2013-09-23 17:39:38, 2013-11-18 06:34:08, 2014-04-12 23:04:47'),\n",
       " Row(_c0=2, business_id='--30_8IhuyMHbSOcNWd6DQ', date='2013-06-14 23:29:17, 2014-08-13 23:20:22'),\n",
       " Row(_c0=3, business_id='--7PUidqRWpRSpXebiyxTg', date='2011-02-15 17:12:00, 2011-07-28 02:46:10, 2012-03-11 10:30:02, 2012-04-24 07:07:59, 2012-04-24 07:43:31, 2013-05-25 16:41:10, 2014-05-02 15:49:55, 2014-09-18 02:28:23, 2014-11-10 15:16:43, 2015-09-27 13:18:32')]"
      ]
     },
     "execution_count": 21,
     "metadata": {},
     "output_type": "execute_result"
    }
   ],
   "source": [
    "checkin.take(4)"
   ]
  },
  {
   "cell_type": "code",
   "execution_count": 9,
   "id": "902bc530-e9b6-47af-9bf0-dae31f88975b",
   "metadata": {},
   "outputs": [],
   "source": [
    "# spark.stop()"
   ]
  },
  {
   "cell_type": "code",
   "execution_count": null,
   "id": "2d565104-a806-45ad-a7c9-dca87e363f02",
   "metadata": {},
   "outputs": [],
   "source": []
  }
 ],
 "metadata": {
  "kernelspec": {
   "display_name": "PySpark",
   "language": "python",
   "name": "pyspark"
  },
  "language_info": {
   "codemirror_mode": {
    "name": "ipython",
    "version": 3
   },
   "file_extension": ".py",
   "mimetype": "text/x-python",
   "name": "python",
   "nbconvert_exporter": "python",
   "pygments_lexer": "ipython3",
   "version": "3.8.15"
  }
 },
 "nbformat": 4,
 "nbformat_minor": 5
}
